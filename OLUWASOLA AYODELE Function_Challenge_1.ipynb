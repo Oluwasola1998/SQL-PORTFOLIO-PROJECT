{
  "nbformat": 4,
  "nbformat_minor": 0,
  "metadata": {
    "colab": {
      "provenance": [],
      "include_colab_link": true
    },
    "kernelspec": {
      "name": "python3",
      "display_name": "Python 3"
    },
    "language_info": {
      "name": "python"
    }
  },
  "cells": [
    {
      "cell_type": "markdown",
      "metadata": {
        "id": "view-in-github",
        "colab_type": "text"
      },
      "source": [
        "<a href=\"https://colab.research.google.com/github/Oluwasola1998/SQL-PORTFOLIO-PROJECT/blob/main/OLUWASOLA%20AYODELE%20Function_Challenge_1.ipynb\" target=\"_parent\"><img src=\"https://colab.research.google.com/assets/colab-badge.svg\" alt=\"Open In Colab\"/></a>"
      ]
    },
    {
      "cell_type": "markdown",
      "source": [
        "### QUESTION 1\n",
        "\n",
        "Write a python function named `is_palindrome` that takes an argument (a string) checks if the input string is a palindrome. The function should return `True` or `False`\n",
        "\n",
        "`palindrome`: a word is `palindrom` if it reads the same backward. E.g `madam`\n",
        "\n",
        "HINT: use the python `input` function to get an input."
      ],
      "metadata": {
        "id": "ucE_PVEmzazs"
      }
    },
    {
      "cell_type": "code",
      "source": [
        "#solution\n"
      ],
      "metadata": {
        "id": "EIN-qszbdYIP"
      },
      "execution_count": null,
      "outputs": []
    },
    {
      "cell_type": "markdown",
      "source": [
        "### QUESTION 2\n",
        "\n",
        "If a valid email is known to have a mix of characters and numbers and then ends with `@edibrige.ng`, e.g `nnebaba123@edubridge.ng`.\n",
        "<br/>\n",
        "Write a functon named `is_valid_email` that accepts an email as an input argument and then check if the email is valid based on the condition above.\n",
        "\n"
      ],
      "metadata": {
        "id": "E6nd8ZIczixT"
      }
    },
    {
      "cell_type": "code",
      "source": [
        "# SOLUTION\n",
        "import re\n",
        "def is_valid_email(email):\n",
        "  pattern = r'^[a-zA-Z0-9]+@edibridge.ng$'\n",
        "  if re.match(pattern, email):\n",
        "    return True\n",
        "  else:\n",
        "    return False\n",
        "email = input(\"Enter an email: \")\n",
        "if is_valid_email(email):\n",
        "  print(f\"{email} is a valid email\")\n",
        "else:\n",
        "  print(f\"{email} is not a valid email\")"
      ],
      "metadata": {
        "id": "F0jTBpfs2YzM",
        "colab": {
          "base_uri": "https://localhost:8080/"
        },
        "outputId": "2109bde5-a408-428a-dcb7-977e75e769bc"
      },
      "execution_count": 27,
      "outputs": [
        {
          "output_type": "stream",
          "name": "stdout",
          "text": [
            "Enter an email: solaayodele@edubridge.ng\n",
            "solaayodele@edubridge.ng is not a valid email\n"
          ]
        }
      ]
    },
    {
      "cell_type": "markdown",
      "source": [
        "### QUESTION 3\n",
        "\n",
        "Given a list of numbers that are perfect squares between 1 and 40 `[1, 2, 4, 16, 25, 36]`.\n",
        "<br>\n",
        "Write a python function that accepts an input argument (any number between 1 and 40) and then checks if the number is a perfect square."
      ],
      "metadata": {
        "id": "EgExjLVPzi-Q"
      }
    },
    {
      "cell_type": "code",
      "source": [
        "# SOLUTION\n",
        "import math\n",
        "def is_perfect_square(n):\n",
        "  if n < 1 or n > 40:\n",
        "    return False\n",
        "  root = math.sqrt(n)\n",
        "  return root == int(root)\n",
        "n = int(input(25))\n",
        "print(is_perfect_square(n))"
      ],
      "metadata": {
        "id": "v8dGOkR56rkG",
        "colab": {
          "base_uri": "https://localhost:8080/"
        },
        "outputId": "c4334052-82b0-4570-f861-e7fb1294f207"
      },
      "execution_count": 26,
      "outputs": [
        {
          "output_type": "stream",
          "name": "stdout",
          "text": [
            "254\n",
            "True\n"
          ]
        }
      ]
    },
    {
      "cell_type": "markdown",
      "source": [
        "### QUESTION 4\n",
        "\n",
        "Given a string, check if an input string is a substring of the given string?\n",
        "<br/><br/>\n",
        "E.g `word = authenticate`\n",
        "<br>Now if a user input the word `the`, We can say that the word `the` is a substring of the word `authenticate` because it's contained in it.\n",
        "\n"
      ],
      "metadata": {
        "id": "WFU5xhYezjGh"
      }
    },
    {
      "cell_type": "code",
      "source": [
        "# SOLUTION\n",
        "def check_substring(main_string, sub_string):\n",
        "  if sub_string in main_string:\n",
        "    return f\" '{sub_string}' is a substring of '{main_string}' \"\n",
        "  else:\n",
        "    return f\" '{sub_string}' is not a substring of '{main_string}' \"\n",
        "main_string = \"authenticate\"\n",
        "sub_string = \"the\"\n",
        "print(check_substring(main_string, sub_string))\n",
        "\n"
      ],
      "metadata": {
        "id": "p2Ajj7I66u8t",
        "colab": {
          "base_uri": "https://localhost:8080/"
        },
        "outputId": "393f5537-5e3d-44e6-d6ba-0cdf483cf8d6"
      },
      "execution_count": 24,
      "outputs": [
        {
          "output_type": "stream",
          "name": "stdout",
          "text": [
            " 'the' is a substring of 'authenticate' \n"
          ]
        }
      ]
    },
    {
      "cell_type": "markdown",
      "source": [
        "### QUESTION 5\n",
        "\n",
        "Write a Python program that takes in a number input. If the number is a multiples of three print `\"Fizz\"` instead of the number and for multiples of five print `\"Buzz\"`. For numbers that are multiples of three and five, print `\"FizzBuzz\"`.\n",
        "\n",
        "**HINT**: *requires type casting for your input.*"
      ],
      "metadata": {
        "id": "zRe7O814zjU9"
      }
    },
    {
      "cell_type": "code",
      "source": [
        "# SOLUTION\n",
        "def fizz_buzz(n):\n",
        "  for i in range(1, n+1):\n",
        "    if i % 3 == 0 and i % 5 == 0:\n",
        "      print(\"FizzBuzz\")\n",
        "    elif i % 3 == 0:\n",
        "      print(\"Fizz\")\n",
        "    elif i % 5 == 0:\n",
        "      print(\"Buzz\")\n",
        "    else:\n",
        "      print(i)\n",
        "n = int(input(\"Enter a number: 5\"))\n",
        "fizz_buzz(n)"
      ],
      "metadata": {
        "id": "lvztCP-Z6xqG",
        "colab": {
          "base_uri": "https://localhost:8080/"
        },
        "outputId": "d87fafa1-117d-4835-82e7-8a726177cfc3"
      },
      "execution_count": 23,
      "outputs": [
        {
          "output_type": "stream",
          "name": "stdout",
          "text": [
            "Enter a number: 55\n",
            "1\n",
            "2\n",
            "Fizz\n",
            "4\n",
            "Buzz\n"
          ]
        }
      ]
    },
    {
      "cell_type": "markdown",
      "source": [
        "### QUESTION 6\n",
        "\n",
        "Given a year input, Is the year a leap year?\n",
        "\n",
        "Reference: in the Gregorian calendar, each leap year has 366 days instead of 365, by extending February to 29 days rather than the common 28. This extra leap day occurs in each year that is an integer multiple of `4` (except for years evenly divisible by `100`, but not by `400`). A leap year of 366 days has 52 weeks and two days, hence the year following a leap year will start later by two days of the week."
      ],
      "metadata": {
        "id": "bUWNERA_zjgI"
      }
    },
    {
      "cell_type": "code",
      "source": [
        "# SOLUTION\n",
        "def is_leap_year(year):\n",
        "  if year % 4 == 0:\n",
        "    if year % 100 == 0:\n",
        "      if year % 400 == 0:\n",
        "        return True\n",
        "      else:\n",
        "        return False\n",
        "    else:\n",
        "      return True\n",
        "  else:\n",
        "    return False\n",
        "year = int(input(\"Enter a year:\"))\n",
        "if is_leap_year(year):\n",
        "  print(f\"{year} is a leap year.\")\n",
        "else:\n",
        "  print(f\"{year} is not a leap year.\")\n"
      ],
      "metadata": {
        "id": "HYVZhb9Q7A6E",
        "colab": {
          "base_uri": "https://localhost:8080/"
        },
        "outputId": "d975f4a7-1268-4639-a711-825f7bd2e2b0"
      },
      "execution_count": 21,
      "outputs": [
        {
          "output_type": "stream",
          "name": "stdout",
          "text": [
            "Enter a year:2025\n",
            "2025 is not a leap year.\n"
          ]
        }
      ]
    },
    {
      "cell_type": "markdown",
      "source": [
        "### QUESTION 7\n",
        "\n",
        "Write a program that prints:\n",
        "<br/>\n",
        "`\"Fail\"` if an input score is less than 45  or<br/> `\"Pass\"` if the score is between (45 and 50), or <br/>`\"Good\"` if it is between (51 and 60)\n",
        "<br/>`\"Very Good\"` if it is between (61 and 70) else <br/>`\"Excellent\"` if the number greater than 70."
      ],
      "metadata": {
        "id": "03oqByaSzj1b"
      }
    },
    {
      "cell_type": "code",
      "source": [
        "# SOLUTION\n",
        "def evaluate_score(score):\n",
        "  if score < 45:\n",
        "    return \"Fail\"\n",
        "  elif 45 <= score <= 50:\n",
        "    return \"Pass\"\n",
        "  elif 51 <= score <= 60:\n",
        "    return \"Good\"\n",
        "  elif 61 <= score <= 70:\n",
        "    return \"Very Good\"\n",
        "  else:\n",
        "    return \"Excellent\"\n",
        "score = float(input(\"Enter the score: \"))\n",
        "print(evaluate_score(score))"
      ],
      "metadata": {
        "id": "VUmcOZXQ7Dj_",
        "colab": {
          "base_uri": "https://localhost:8080/"
        },
        "outputId": "7cdcea6d-2ac8-4802-93d3-c9163da4317a"
      },
      "execution_count": 16,
      "outputs": [
        {
          "output_type": "stream",
          "name": "stdout",
          "text": [
            "Enter the score: 50\n",
            "Pass\n"
          ]
        }
      ]
    },
    {
      "cell_type": "markdown",
      "source": [
        "### QUESTION 8\n",
        "\n",
        "Given two different list below, Convert them to a dictionary:<br/>\n",
        "`keys = ['Ten', 'Twenty', 'Thirty']`\n",
        "`values = [10, 20, 30]`\n",
        "<br/> <br/>Expected output is: `{'Ten': 10, 'Twenty': 20, 'Thirty': 30}`\n",
        "<br/><br/>**HINT**: use the python `zip` function and then cast the result of the function to accomplish your desired output. You can check `help(zip)`"
      ],
      "metadata": {
        "id": "9W92m74azj-C"
      }
    },
    {
      "cell_type": "code",
      "source": [
        "# SOLUTION\n",
        "keys = ['Ten', 'Twenty', 'Thirty']\n",
        "values = [10, 20, 30]"
      ],
      "metadata": {
        "id": "mSGZS6Jk7FwE"
      },
      "execution_count": 9,
      "outputs": []
    },
    {
      "cell_type": "code",
      "source": [
        "dictionary = dict(zip(keys, values))\n",
        "print(dictionary)"
      ],
      "metadata": {
        "colab": {
          "base_uri": "https://localhost:8080/"
        },
        "id": "Z_53FrJwbNgK",
        "outputId": "f825a5bb-1b78-410d-a5d9-4d80bc6b7387"
      },
      "execution_count": 10,
      "outputs": [
        {
          "output_type": "stream",
          "name": "stdout",
          "text": [
            "{'Ten': 10, 'Twenty': 20, 'Thirty': 30}\n"
          ]
        }
      ]
    },
    {
      "cell_type": "markdown",
      "source": [
        "### QUESTION 9\n",
        "\n",
        "Merge the two Python dictionaries below\n",
        "<br/>`dict1 = {'Ten': 10, 'Twenty': 20, 'Thirty': 30}`<br/>\n",
        "`dict2 = {'Thirty': 30, 'Fourty': 40, 'Fifty': 50}`\n",
        "<br/>Expected output is: `{'Ten': 10, 'Twenty': 20, 'Thirty': 30, 'Fourty': 40, 'Fifty': 50}`\n",
        "\n",
        "<br/><br/>**HINT**: you can check `help(dict)` to identify dict method that will help you achieve solution to the problem."
      ],
      "metadata": {
        "id": "rD-5381wzkFz"
      }
    },
    {
      "cell_type": "code",
      "source": [
        "# SOLUTION\n",
        "dict1 = {'Ten': 10, 'Twenty': 20, 'Thirty': 30}\n",
        "dict2 = {'Thirty': 30, 'Fourty': 40, 'Fifty': 50}"
      ],
      "metadata": {
        "id": "P7bsV-C37IJr"
      },
      "execution_count": 6,
      "outputs": []
    },
    {
      "cell_type": "code",
      "source": [
        "dict1.update(dict2)\n",
        "print(dict1)"
      ],
      "metadata": {
        "colab": {
          "base_uri": "https://localhost:8080/"
        },
        "id": "ixLcWBl1abYo",
        "outputId": "c6d34dd9-3866-4951-ed89-6601fdd67d2f"
      },
      "execution_count": 7,
      "outputs": [
        {
          "output_type": "stream",
          "name": "stdout",
          "text": [
            "{'Ten': 10, 'Twenty': 20, 'Thirty': 30, 'Fourty': 40, 'Fifty': 50}\n"
          ]
        }
      ]
    },
    {
      "cell_type": "markdown",
      "source": [
        "### QUESTION 10\n",
        "Print out all the keys from the given dictionary `sample_dict = {'a': 100, 'b': 200, 'c': 300}` as a list.\n",
        "<br>\n",
        "Expected Output: `['a', 'b', 'c']`"
      ],
      "metadata": {
        "id": "tujWJvlxzkNQ"
      }
    },
    {
      "cell_type": "code",
      "source": [
        "# SOLUTION\n",
        "sample_dict = {'a': 100, 'b': 200, 'c': 300}"
      ],
      "metadata": {
        "id": "GT5fPhTs7KTC"
      },
      "execution_count": 4,
      "outputs": []
    },
    {
      "cell_type": "code",
      "source": [
        "print(list(sample_dict.keys()))"
      ],
      "metadata": {
        "colab": {
          "base_uri": "https://localhost:8080/"
        },
        "id": "uA-J9P0PaE3W",
        "outputId": "cd4623e0-660f-4271-eb2a-dd23c1a7a697"
      },
      "execution_count": 5,
      "outputs": [
        {
          "output_type": "stream",
          "name": "stdout",
          "text": [
            "['a', 'b', 'c']\n"
          ]
        }
      ]
    },
    {
      "cell_type": "markdown",
      "source": [
        "### QUESTION 11\n",
        "\n",
        "Print out all the values from a givsen dictionary\n",
        "`sample_dict = {'a': 100, 'b': 200, 'c': 300}` as a list.\n",
        "<br>\n",
        "Expected Output: `[100, 200, 300]`"
      ],
      "metadata": {
        "id": "zu7Lb3GfQZwC"
      }
    },
    {
      "cell_type": "code",
      "execution_count": 1,
      "metadata": {
        "id": "FOh0lrewzV3L"
      },
      "outputs": [],
      "source": [
        "# SOLUTION\n",
        "sample_dict = {'a': 100, 'b': 200, 'c': 300}"
      ]
    },
    {
      "cell_type": "code",
      "source": [
        "print(list(sample_dict.values()))"
      ],
      "metadata": {
        "colab": {
          "base_uri": "https://localhost:8080/"
        },
        "id": "PK-NW_tyYyJH",
        "outputId": "bce60ad8-8803-4467-dee1-0adcc62cea75"
      },
      "execution_count": 3,
      "outputs": [
        {
          "output_type": "stream",
          "name": "stdout",
          "text": [
            "[100, 200, 300]\n"
          ]
        }
      ]
    },
    {
      "cell_type": "markdown",
      "source": [
        "### QUESTION 12\n",
        "\n",
        "Given: `sample_dict = {'a': 100, 'b': 200, 'c': 300}`. Ask a user for an input. If the input is a value present in the `sample_dict` dictionary, print the number with some text.\n",
        "E.g, if input is `200`,<br>\n",
        "Expected output: `200 is a value present in the dicitonary.`"
      ],
      "metadata": {
        "id": "fm_7DyH4Q6Ab"
      }
    },
    {
      "cell_type": "code",
      "source": [
        "# SOLUTION\n",
        "sample_dict = {'a': 100, 'b': 200, 'c': 300}"
      ],
      "metadata": {
        "id": "FWFvwNLWQ5N8"
      },
      "execution_count": null,
      "outputs": []
    },
    {
      "cell_type": "code",
      "source": [
        "user_input = int(input(200))\n",
        "if user_input in sample_dict.values():\n",
        "  print(f\"{user_input} is a value present in the dictionary.\")\n",
        "else:\n",
        "    print(f\"{user_input} is not present in the dictionary.\")"
      ],
      "metadata": {
        "id": "Y3HbiUXN-WWm",
        "colab": {
          "base_uri": "https://localhost:8080/"
        },
        "outputId": "65261b86-cb14-451e-efe4-7c9349933fcc"
      },
      "execution_count": 17,
      "outputs": [
        {
          "output_type": "stream",
          "name": "stdout",
          "text": [
            "200100\n",
            "100 is a value present in the dictionary.\n"
          ]
        }
      ]
    },
    {
      "cell_type": "markdown",
      "source": [
        "### QUESTION 13\n",
        "\n",
        "Get the key of a minimum value from the following dictionary\n",
        "`sample_dict = {'Physics': 82, 'Math': 65 'history': 75}`\n",
        "\n",
        "<br>Expected Output: `Math`"
      ],
      "metadata": {
        "id": "beLkIUOhR29y"
      }
    },
    {
      "cell_type": "code",
      "source": [
        "# SOLUTION\n",
        "sample_dict = {'Physics': 82, 'Math': 65, 'history': 75}"
      ],
      "metadata": {
        "id": "4Vcq5LIt7p8Q"
      },
      "execution_count": null,
      "outputs": []
    },
    {
      "cell_type": "code",
      "source": [
        "min_value = min(sample_dict.values())\n",
        "print(min_value)"
      ],
      "metadata": {
        "colab": {
          "base_uri": "https://localhost:8080/"
        },
        "id": "hFxwzNC58E33",
        "outputId": "2abab0d5-82e2-4495-973b-55d3adb382a2"
      },
      "execution_count": null,
      "outputs": [
        {
          "output_type": "stream",
          "name": "stdout",
          "text": [
            "65\n"
          ]
        }
      ]
    },
    {
      "cell_type": "markdown",
      "source": [
        "### QUESTION 14\n",
        "\n",
        "Write a program to rename a key city to a location in the following dictionary.\n",
        "<BR>\n",
        "Given: `sample_dict = {\"name\": \"Kelly\", \"age\":25, \"salary\": 8000, \"city\": \"New york\"}`\n",
        "\n",
        "<br>Expected Output: `{'name': 'Kelly', 'age': 25, 'salary': 8000, 'location': 'New york'}`"
      ],
      "metadata": {
        "id": "pztPTTjRS-Xb"
      }
    },
    {
      "cell_type": "code",
      "source": [
        "#solution\n",
        "sample_dict = {\"name\": \"Kelly\", \"age\":25, \"salary\": 8000, \"city\": \"New york\"}"
      ],
      "metadata": {
        "id": "09qRYkhl5-BS"
      },
      "execution_count": null,
      "outputs": []
    },
    {
      "cell_type": "code",
      "source": [
        "sample_dict[\"location\"] = sample_dict.pop(\"city\")\n",
        "print(sample_dict)"
      ],
      "metadata": {
        "colab": {
          "base_uri": "https://localhost:8080/"
        },
        "id": "kvOChF6O6DwG",
        "outputId": "e18d5a9b-d34e-4f3e-8b70-16fcb738a90a"
      },
      "execution_count": null,
      "outputs": [
        {
          "output_type": "stream",
          "name": "stdout",
          "text": [
            "{'name': 'Kelly', 'age': 25, 'salary': 8000, 'location': 'New york'}\n"
          ]
        }
      ]
    },
    {
      "cell_type": "markdown",
      "source": [
        "### QUESTION 15\n",
        "\n",
        "Write a program to unpack the following tuple into four variables and display each variable.\n",
        "<br>\n",
        "Given: `tuple1 = (10, 20, 30, 40)`\n",
        "<br/>Expected output:\n",
        ">> print(a) # should print 10 <br/>\n",
        ">> print(b) # should print 20 <br/>\n",
        ">> print(c) # should print 30 <br/>\n",
        ">> print(d) # should print 40 <br/>\n",
        "\n"
      ],
      "metadata": {
        "id": "Tzuz63jvTHK6"
      }
    },
    {
      "cell_type": "code",
      "source": [
        "# SOLUTION\n",
        "tuple1 = (10, 20, 30, 40)"
      ],
      "metadata": {
        "id": "XBdgWQQbU_nG"
      },
      "execution_count": null,
      "outputs": []
    },
    {
      "cell_type": "code",
      "source": [
        "a, b, c, d = tuple1\n",
        "print(a)\n",
        "print(b)\n",
        "print(c)\n",
        "print(d)"
      ],
      "metadata": {
        "colab": {
          "base_uri": "https://localhost:8080/"
        },
        "id": "UoEZ_13u5pTW",
        "outputId": "0a441a42-c8a1-43e7-a4a2-cd7efc52aaed"
      },
      "execution_count": null,
      "outputs": [
        {
          "output_type": "stream",
          "name": "stdout",
          "text": [
            "10\n",
            "20\n",
            "30\n",
            "40\n"
          ]
        }
      ]
    },
    {
      "cell_type": "markdown",
      "source": [
        "### QUESTION 16\n",
        "\n",
        "Swap two tuples in Python\n",
        "Given: <br>`tuple1 = (11, 22)`, <br>`tuple2 = (99, 88)`\n",
        "\n",
        "Expected Output: <br>`tuple1: (99, 88)`\n",
        "<br>`tuple2: (11, 22)`\n"
      ],
      "metadata": {
        "id": "fTBkgL-URABj"
      }
    },
    {
      "cell_type": "code",
      "source": [
        "# SOLUTION\n",
        "tuple1 = (11, 22)\n",
        "tuple2 = (99, 88)"
      ],
      "metadata": {
        "id": "APP_aVq8Ve9j"
      },
      "execution_count": null,
      "outputs": []
    },
    {
      "cell_type": "code",
      "source": [
        "temp = tuple1\n",
        "tuple1 = tuple2\n",
        "tuple2 = temp\n",
        "print(tuple1)\n",
        "print(tuple2)"
      ],
      "metadata": {
        "colab": {
          "base_uri": "https://localhost:8080/"
        },
        "id": "0QfWg4rav0OM",
        "outputId": "12b23022-fac6-423a-8ea2-8a867e174768"
      },
      "execution_count": null,
      "outputs": [
        {
          "output_type": "stream",
          "name": "stdout",
          "text": [
            "(99, 88)\n",
            "(11, 22)\n"
          ]
        }
      ]
    },
    {
      "cell_type": "markdown",
      "source": [
        "### QUESTION 17\n",
        "\n",
        "Sort a tuple of tuples by 2nd item\n",
        "<BR>\n",
        "Given:tuple1 = `(('a', 23),('b', 37),('c', 11), ('d',29))`\n",
        "\n",
        "<BR>Expected output: `(('c', 11), ('a', 23), ('d', 29), ('b', 37))`"
      ],
      "metadata": {
        "id": "sqUCmE-mWQi9"
      }
    },
    {
      "cell_type": "code",
      "source": [
        "# SOLUTION\n",
        "tuple1 = (('a', 23),('b', 37),('c', 11), ('d',29))"
      ],
      "metadata": {
        "id": "ICYx637TWPWk"
      },
      "execution_count": null,
      "outputs": []
    },
    {
      "cell_type": "code",
      "source": [
        "sorted_tuple = sorted(tuple1, key=lambda x: x[1])\n",
        "print(sorted_tuple)"
      ],
      "metadata": {
        "colab": {
          "base_uri": "https://localhost:8080/"
        },
        "id": "x6tFyKvarUBd",
        "outputId": "a29cd195-53df-4c6a-e288-1b15013116aa"
      },
      "execution_count": null,
      "outputs": [
        {
          "output_type": "stream",
          "name": "stdout",
          "text": [
            "[('c', 11), ('a', 23), ('d', 29), ('b', 37)]\n"
          ]
        }
      ]
    },
    {
      "cell_type": "markdown",
      "source": [
        "### QUESTION 18\n",
        "\n",
        "print a new set of identical items from two sets\n",
        "Given:<BR>\n",
        "`set1 = {10, 20, 30, 40, 50}`<BR>\n",
        "`set2 = {30, 40, 50, 60, 70}`\n",
        "<BR>Expected output: `{40, 50, 30}`\n",
        "\n",
        "**HINT**: *set method will do the workings for you.*"
      ],
      "metadata": {
        "id": "yOpkUhE8XIAm"
      }
    },
    {
      "cell_type": "code",
      "source": [
        "#solution\n",
        "set1 = {10, 20, 30, 40, 50}\n",
        "set2 = {30, 40, 50, 60, 70}"
      ],
      "metadata": {
        "id": "71K0QmRMXHGy"
      },
      "execution_count": null,
      "outputs": []
    },
    {
      "cell_type": "code",
      "source": [
        "identical_items = set1.intersection(set2)\n",
        "print(identical_items)"
      ],
      "metadata": {
        "colab": {
          "base_uri": "https://localhost:8080/"
        },
        "id": "7P3zYi7Yq3jN",
        "outputId": "ae21dc92-d582-4252-990c-8282bf11b918"
      },
      "execution_count": null,
      "outputs": [
        {
          "output_type": "stream",
          "name": "stdout",
          "text": [
            "{40, 50, 30}\n"
          ]
        }
      ]
    },
    {
      "cell_type": "markdown",
      "source": [
        "**COMMENT:** Great"
      ],
      "metadata": {
        "id": "ecK1rgj_QRkY"
      }
    },
    {
      "cell_type": "markdown",
      "source": [
        "### QUESTION 19\n",
        "\n",
        "Given two Python sets, write a Python program to update the first set with items that exist only in the first set and not in the second set.\n",
        "\n",
        "<BR>Given:\n",
        "<BR>\n",
        "`set1 = {10, 20, 30}`<BR>\n",
        "`set2 = {20, 40, 50}`<BR>\n",
        "Expected output: `set1 {10, 30}`\n",
        "\n",
        "**HINT**: *set method will do the workings for you.*"
      ],
      "metadata": {
        "id": "lS3Is27FY0Cw"
      }
    },
    {
      "cell_type": "code",
      "source": [
        "#solution\n",
        "set1 = {10, 20, 30}\n",
        "set2 = {20, 40, 50}"
      ],
      "metadata": {
        "id": "tl4MVvSlYy76"
      },
      "execution_count": null,
      "outputs": []
    },
    {
      "cell_type": "code",
      "source": [
        "set1 = set1.difference(set2)\n",
        "print(set1)"
      ],
      "metadata": {
        "colab": {
          "base_uri": "https://localhost:8080/"
        },
        "id": "oJs2tE0tqIdr",
        "outputId": "e665f833-7eb1-4fd5-e6b3-19448290665f"
      },
      "execution_count": null,
      "outputs": [
        {
          "output_type": "stream",
          "name": "stdout",
          "text": [
            "{10, 30}\n"
          ]
        }
      ]
    },
    {
      "cell_type": "markdown",
      "source": [
        "**COMMENT:** Great"
      ],
      "metadata": {
        "id": "Csw0EX4FQXbV"
      }
    },
    {
      "cell_type": "markdown",
      "source": [
        "### QUESTION 20\n",
        "\n",
        "Check if two sets have any elements in common. If yes, display the common elements\n",
        "\n",
        "Given:\n",
        "\n",
        "`set1 = {10, 20, 30, 40, 50}`\n",
        "\n",
        "`set2 = {60, 70, 80, 90, 10}`\n",
        "\n",
        "Expected output: `{10}`\n",
        "\n",
        "**HINT**: *set method and conditional statement will do the workings for you.*"
      ],
      "metadata": {
        "id": "jTdw5ITfbCrr"
      }
    },
    {
      "cell_type": "code",
      "source": [
        "# SOLUTION\n",
        "set1 = {10, 20, 30, 40, 50}\n",
        "set2 = {60, 70, 80, 90, 10}"
      ],
      "metadata": {
        "id": "XX-AE9QibBfn"
      },
      "execution_count": null,
      "outputs": []
    },
    {
      "cell_type": "code",
      "source": [
        "common_elements = set1.intersection(set2)\n",
        "if common_elements:\n",
        "  print(common_elements)\n",
        "else:\n",
        "  print(\"No common elements\")"
      ],
      "metadata": {
        "colab": {
          "base_uri": "https://localhost:8080/"
        },
        "id": "IQSfyXCnoLKZ",
        "outputId": "a77fbd4d-12d4-46d8-ac62-2aabbebd968e"
      },
      "execution_count": null,
      "outputs": [
        {
          "output_type": "stream",
          "name": "stdout",
          "text": [
            "{10}\n"
          ]
        }
      ]
    }
  ]
}